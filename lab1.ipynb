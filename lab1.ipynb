{
  "nbformat": 4,
  "nbformat_minor": 0,
  "metadata": {
    "colab": {
      "provenance": [],
      "toc_visible": true,
      "authorship_tag": "ABX9TyMYcDIWv/mqKceExubhtUin",
      "include_colab_link": true
    },
    "kernelspec": {
      "name": "python3",
      "display_name": "Python 3"
    },
    "language_info": {
      "name": "python"
    }
  },
  "cells": [
    {
      "cell_type": "markdown",
      "metadata": {
        "id": "view-in-github",
        "colab_type": "text"
      },
      "source": [
        "<a href=\"https://colab.research.google.com/github/blacksaturn1-wpi/Reinforcement-Learning-RBE-595-WPI/blob/assignment-1/lab1.ipynb\" target=\"_parent\"><img src=\"https://colab.research.google.com/assets/colab-badge.svg\" alt=\"Open In Colab\"/></a>"
      ]
    },
    {
      "cell_type": "markdown",
      "source": [
        "# Problem"
      ],
      "metadata": {
        "id": "6cUHUKuf9ePU"
      }
    },
    {
      "cell_type": "markdown",
      "source": [
        "Figure 2.2 compares a greedy method with two ε-greedy methods (ε = 0.01 and ε = 0.1), as described above, on the 10-armed testbed. All the methods formed their action-value estimates using the sample-average technique. The upper graph shows the increase in expected reward with experience. The greedy method improved slightly faster than the other methods at the very beginning, but then leveled off at a lower level. It achieved a reward-per-step of only about 1, compared with the best possible of about 1.55 on this testbed. The greedy method performed significantly worse in the long run because it often got stuck performing suboptimal actions. The lower graph shows that the greedy method found the optimal action in only approximately one-third of the tasks. In the other two-thirds, its initial samples of the optimal action were disappointing, and it never returned to it. The ε-greedy methods eventually performed better because they continued to explore and to improve their chances of recognizing the optimal action. The ε = 0.1 method explored more, and usually found the optimal action earlier, but it never selected that action more than 91% of the time. The ε = 0.01 method improved more slowly, but eventually would perform better than the ε = 0.1 method on both performance measures shown in the figure. It is also possible to reduce ε over time to try to get the best of both high and low values.\n",
        "\n",
        "Sutton, Richard S.; Barto, Andrew G.. Reinforcement Learning, second edition (Adaptive Computation and Machine Learning series) (pp. 29-30). MIT Press. Kindle Edition. "
      ],
      "metadata": {
        "id": "A5D37T1ipgeH"
      }
    },
    {
      "cell_type": "markdown",
      "source": [
        "\n",
        "\n"
      ],
      "metadata": {
        "id": "PB4_RmBQ-ks5"
      }
    },
    {
      "cell_type": "markdown",
      "source": [
        "# Procedure"
      ],
      "metadata": {
        "id": "hrOlpsHq_2cV"
      }
    },
    {
      "cell_type": "markdown",
      "source": [
        "Run 2 main tests to graph Quadrant I and III.  Simulate 2000 runs and calculate the estimated value of the reward"
      ],
      "metadata": {
        "id": "I4aCEEzss77I"
      }
    },
    {
      "cell_type": "code",
      "execution_count": 66,
      "metadata": {
        "id": "i8T0vbr5pbG1"
      },
      "outputs": [],
      "source": [
        "def sample_running_average(current_reward,current_average,previous_step):\n",
        "  current_step=previous_step+1\n",
        "  new_average = current_average + 1.0/current_step*(current_reward-current_average)\n",
        "  return (new_average,current_step)"
      ]
    },
    {
      "cell_type": "code",
      "source": [
        "from random import choices\n",
        "def testStochasticOutcomes():\n",
        "  population = [0, 1]\n",
        "  action1_weights = [0.8, 0.2]\n",
        "  action2_weights = [0.9, 0.1]\n",
        "  action1_reward=choices(population, action1_weights)\n",
        "  action2_reward=choices(population, action2_weights)\n",
        "  print(action1_reward[0])\n",
        "  print(action2_reward[0])"
      ],
      "metadata": {
        "id": "ad8BQuIR1i-s"
      },
      "execution_count": 37,
      "outputs": []
    },
    {
      "cell_type": "code",
      "source": [
        "debug=False\n",
        "\n",
        "def estimateActionValues(r1,r2,q1,q2,n1,n2):\n",
        "  q1,n1=sample_running_average(r1,q1,n1)\n",
        "  if(debug):\n",
        "      print(\"action1_reward: {0}, action1_reward_avg: {1}, action1_reward_count: {2}\".format(r1,q1,n1))\n",
        "  q2,n2=sample_running_average(r2,q2,n2)\n",
        "  if(debug):\n",
        "    print(\"action2_reward: {0}, action2_reward_avg: {1}, action2_reward_count: {2}\".format(r2,q2,n2))\n",
        "  return q1,q2,n1,n2"
      ],
      "metadata": {
        "id": "scAuoXSxQorg"
      },
      "execution_count": 25,
      "outputs": []
    },
    {
      "cell_type": "code",
      "source": [
        "import numpy as np\n",
        "def randomReward(mu,sigma,iterations):\n",
        "  R_t=np.random.default_rng().normal(mu, sigma, iterations)\n",
        "  return R_t"
      ],
      "metadata": {
        "id": "4TKvMgTSGBDd"
      },
      "execution_count": 102,
      "outputs": []
    },
    {
      "cell_type": "code",
      "source": [
        "total = 0\n",
        "[total := total + x for x in [1, 2, 3, 4, 5]]\n",
        "print(total)\n",
        "total = [x for x in [1, 2, 3, 4, 5]]\n",
        "print(total)\n",
        "sum(total)"
      ],
      "metadata": {
        "colab": {
          "base_uri": "https://localhost:8080/"
        },
        "id": "f5CMFTu0IH62",
        "outputId": "b970f84c-724e-49f6-a7c5-3dbb09eb254a"
      },
      "execution_count": 103,
      "outputs": [
        {
          "output_type": "stream",
          "name": "stdout",
          "text": [
            "15\n",
            "[1, 2, 3, 4, 5]\n"
          ]
        },
        {
          "output_type": "execute_result",
          "data": {
            "text/plain": [
              "15"
            ]
          },
          "metadata": {},
          "execution_count": 103
        }
      ]
    },
    {
      "cell_type": "code",
      "source": [
        "def debugGraph(data,dimensions,xlabel,ylabel):\n",
        "  x_plot=[]\n",
        "  for x in range(dimensions):\n",
        "    y_plot = data[x]\n",
        "    x_plot = x+1  \n",
        "    plt.plot(x_plot, y_plot, label=\"Action {} Rewards\".format(x+1))\n",
        "    plt.plot()\n",
        "\n",
        "  plt.xlabel(xlabel)\n",
        "  plt.ylabel(ylabel)\n",
        "  plt.title(\"Algorithm Debug\")\n",
        "  plt.legend()\n",
        "  plt.show()"
      ],
      "metadata": {
        "id": "cpv5aNZ1I7OV"
      },
      "execution_count": 104,
      "outputs": []
    },
    {
      "cell_type": "code",
      "source": [
        "def bandit(action,q_a,debug):\n",
        "  if(debug):\n",
        "    print(\"<action, type>\",action,type(action))\n",
        "  R_t = randomReward(q_a,1,1)\n",
        "  return R_t[0]\n"
      ],
      "metadata": {
        "id": "fSbM7_V1N-B-"
      },
      "execution_count": 131,
      "outputs": []
    },
    {
      "cell_type": "code",
      "source": [
        "def createBanditsProblem(kArms,problem_iterations):\n",
        "  #make q(a) for each problem\n",
        "  q_a = []\n",
        "  mu, sigma = 0, 1 # mean and standard deviation\n",
        "  for x in range(kArms):\n",
        "    q_a.append(np.random.default_rng().normal(mu, sigma, problem_iterations))\n",
        "  return q_a\n",
        "\n",
        "\n",
        "q_a_test = createBanditsProblem(10,2)\n",
        "print(q_a_test[0][0])"
      ],
      "metadata": {
        "colab": {
          "base_uri": "https://localhost:8080/"
        },
        "id": "Mnq3TxTAdMeB",
        "outputId": "28961285-b5ce-4353-e6db-179193cf80c3"
      },
      "execution_count": 170,
      "outputs": [
        {
          "output_type": "stream",
          "name": "stdout",
          "text": [
            "-1.2708777826128426\n"
          ]
        }
      ]
    },
    {
      "cell_type": "code",
      "source": [
        "import matplotlib.pyplot as plt\n",
        "import numpy as np\n",
        "import random\n",
        "\n",
        "def kArmedBanditSimulation(banditSimNumber,kArms,q_a,epsilon,steps,debug):\n",
        "\n",
        "  Q_a = [0 for x in range(kArms)]\n",
        "  N_a = [0 for x in range(kArms)]\n",
        "  population = [0, 1]\n",
        "  randomAction_weights = [1-epsilon, epsilon]\n",
        "\n",
        "  # average rewards\n",
        "  R_t_perStep=[]\n",
        "\n",
        "  for t in range(steps):\n",
        "    # choose action\n",
        "    isRandomAction=choices(population, randomAction_weights)[0]\n",
        "    if(debug):\n",
        "      print(\"Is Random Action?\", isRandomAction)\n",
        "      \n",
        "    if(isRandomAction):\n",
        "      action = random.randint(0, 9)\n",
        "      if(debug):\n",
        "        print('Random action:',action)\n",
        "    else:\n",
        "      action_value_max = max(Q_a)\n",
        "      if(debug):\n",
        "          print(\"Max value action:\",action_value_max)\n",
        "      # Select actions which have max value randomly\n",
        "      matchingActionValues = [x for x in Q_a if x==action_value_max ]\n",
        "      if(debug):\n",
        "          print(matchingActionValues)\n",
        "      if(len(matchingActionValues)>1):\n",
        "        nMatch = random.randint(0, len(matchingActionValues))\n",
        "        pos = 0\n",
        "        for n in range(nMatch):\n",
        "          pos = Q_a.index(action_value_max)\n",
        "          action = pos\n",
        "      else:\n",
        "        action = Q_a.index(matchingActionValues[0])  \n",
        "      if(debug):\n",
        "          print('Action selected:',action)\n",
        "      \n",
        "    R_t = bandit(action,q_a[action][banditSimNumber],debug)\n",
        "    if(debug): \n",
        "      print(\"bandit() results R_t: \",R_t)\n",
        "    Q_a[action],N_a[action] = sample_running_average(R_t,Q_a[action],N_a[action])\n",
        "    if(debug):\n",
        "       print(\"Action Value, Count\",Q_a[action],N_a[action])\n",
        "    R_t_perStep.append(R_t)\n",
        "  return q_a , Q_a, N_a,R_t_perStep\n",
        "\n",
        "\n",
        "#len(qa)\n",
        "#len(qa[0])\n",
        "#debugGraph(qa,kArms,'Action','Rewards')"
      ],
      "metadata": {
        "id": "_jZTz_HmBZTY"
      },
      "execution_count": 179,
      "outputs": []
    },
    {
      "cell_type": "code",
      "source": [
        "debug=False\n",
        "kArms, runs, steps, epsilon=10,2000,1000,0.0\n",
        "q_a=createBanditsProblem(kArms,runs)\n",
        "R_t_avgRun_perStep=[0 for x in range(steps)]\n",
        "print(len(q_a[0]))\n",
        "print(len(q_a))\n",
        "print(q_a[0][0])\n",
        "for r in range(runs):\n",
        "  qa, Qa, Na,Rt_perStep = kArmedBanditSimulation(r,kArms,q_a,epsilon,steps,debug)\n",
        "  if(debug):\n",
        "    print(\"Run #\",r)\n",
        "    print(\"Rt_perStep\",len(Rt_perStep))\n",
        "  for step in range(len(Rt_perStep)):\n",
        "      if(debug):\n",
        "        print(\"B\",R_t_avgRun_perStep)\n",
        "      n=r+1\n",
        "      R_t_avgRun_perStep[step],_ = sample_running_average(Rt_perStep[step],R_t_avgRun_perStep[step],n)\n",
        "      if(debug):\n",
        "        print(\"A\",R_t_avgRun_perStep)\n",
        "  #len(Qa)\n",
        "  #for x in range(kArms):\n",
        "  #  print(qa[x],Qa[x],Na[x])\n",
        "\n",
        "\n",
        "#x_plot = []\n",
        "x_plot = [x for x in range(1,steps+1)]\n",
        "#print(x_plot)\n",
        "\n",
        "#print(R_t_avgRun_perStep)\n",
        "plt.plot(x_plot, R_t_avgRun_perStep, label=\"Greedy Average Per Step\")\n",
        "#plt.plot(x_plot, action2_reward_avg_y2, label=\"Action 2 Rewards\")\n",
        "plt.plot()\n",
        "\n",
        "plt.xlabel(\"Steps\")\n",
        "plt.ylabel(\"Average reward\")\n",
        "plt.title(\"10 Armed Test Bed\")\n",
        "plt.legend()\n",
        "plt.show()\n",
        "\n",
        "#action=0\n",
        "#print(qa[0])\n",
        "#R_t = randomReward(qa[action],1,1)\n",
        "#print(R_t)"
      ],
      "metadata": {
        "colab": {
          "base_uri": "https://localhost:8080/",
          "height": 409
        },
        "id": "K12nDpwYJauF",
        "outputId": "5a7d7624-01b5-41f2-ac67-2f25d3a8be97"
      },
      "execution_count": 178,
      "outputs": [
        {
          "output_type": "stream",
          "name": "stdout",
          "text": [
            "2000\n",
            "10\n",
            "0.17980270398841638\n"
          ]
        },
        {
          "output_type": "error",
          "ename": "UnboundLocalError",
          "evalue": "ignored",
          "traceback": [
            "\u001b[0;31m---------------------------------------------------------------------------\u001b[0m",
            "\u001b[0;31mUnboundLocalError\u001b[0m                         Traceback (most recent call last)",
            "\u001b[0;32m<ipython-input-178-2d13ba41eae3>\u001b[0m in \u001b[0;36m<module>\u001b[0;34m\u001b[0m\n\u001b[1;32m      7\u001b[0m \u001b[0mprint\u001b[0m\u001b[0;34m(\u001b[0m\u001b[0mq_a\u001b[0m\u001b[0;34m[\u001b[0m\u001b[0;36m0\u001b[0m\u001b[0;34m]\u001b[0m\u001b[0;34m[\u001b[0m\u001b[0;36m0\u001b[0m\u001b[0;34m]\u001b[0m\u001b[0;34m)\u001b[0m\u001b[0;34m\u001b[0m\u001b[0;34m\u001b[0m\u001b[0m\n\u001b[1;32m      8\u001b[0m \u001b[0;32mfor\u001b[0m \u001b[0mr\u001b[0m \u001b[0;32min\u001b[0m \u001b[0mrange\u001b[0m\u001b[0;34m(\u001b[0m\u001b[0mruns\u001b[0m\u001b[0;34m)\u001b[0m\u001b[0;34m:\u001b[0m\u001b[0;34m\u001b[0m\u001b[0;34m\u001b[0m\u001b[0m\n\u001b[0;32m----> 9\u001b[0;31m   \u001b[0mqa\u001b[0m\u001b[0;34m,\u001b[0m \u001b[0mQa\u001b[0m\u001b[0;34m,\u001b[0m \u001b[0mNa\u001b[0m\u001b[0;34m,\u001b[0m\u001b[0mRt_perStep\u001b[0m \u001b[0;34m=\u001b[0m \u001b[0mkArmedBanditSimulation\u001b[0m\u001b[0;34m(\u001b[0m\u001b[0mr\u001b[0m\u001b[0;34m,\u001b[0m\u001b[0mkArms\u001b[0m\u001b[0;34m,\u001b[0m\u001b[0mq_a\u001b[0m\u001b[0;34m,\u001b[0m\u001b[0mepsilon\u001b[0m\u001b[0;34m,\u001b[0m\u001b[0msteps\u001b[0m\u001b[0;34m,\u001b[0m\u001b[0mdebug\u001b[0m\u001b[0;34m)\u001b[0m\u001b[0;34m\u001b[0m\u001b[0;34m\u001b[0m\u001b[0m\n\u001b[0m\u001b[1;32m     10\u001b[0m   \u001b[0;32mif\u001b[0m\u001b[0;34m(\u001b[0m\u001b[0mdebug\u001b[0m\u001b[0;34m)\u001b[0m\u001b[0;34m:\u001b[0m\u001b[0;34m\u001b[0m\u001b[0;34m\u001b[0m\u001b[0m\n\u001b[1;32m     11\u001b[0m     \u001b[0mprint\u001b[0m\u001b[0;34m(\u001b[0m\u001b[0;34m\"Run #\"\u001b[0m\u001b[0;34m,\u001b[0m\u001b[0mr\u001b[0m\u001b[0;34m)\u001b[0m\u001b[0;34m\u001b[0m\u001b[0;34m\u001b[0m\u001b[0m\n",
            "\u001b[0;32m<ipython-input-177-821865bdc785>\u001b[0m in \u001b[0;36mkArmedBanditSimulation\u001b[0;34m(banditSimNumber, kArms, q_a, epsilon, steps, debug)\u001b[0m\n\u001b[1;32m     41\u001b[0m           \u001b[0mprint\u001b[0m\u001b[0;34m(\u001b[0m\u001b[0;34m'Action selected:'\u001b[0m\u001b[0;34m,\u001b[0m\u001b[0maction\u001b[0m\u001b[0;34m)\u001b[0m\u001b[0;34m\u001b[0m\u001b[0;34m\u001b[0m\u001b[0m\n\u001b[1;32m     42\u001b[0m \u001b[0;34m\u001b[0m\u001b[0m\n\u001b[0;32m---> 43\u001b[0;31m     \u001b[0mR_t\u001b[0m \u001b[0;34m=\u001b[0m \u001b[0mbandit\u001b[0m\u001b[0;34m(\u001b[0m\u001b[0maction\u001b[0m\u001b[0;34m,\u001b[0m\u001b[0mq_a\u001b[0m\u001b[0;34m[\u001b[0m\u001b[0maction\u001b[0m\u001b[0;34m]\u001b[0m\u001b[0;34m[\u001b[0m\u001b[0mbanditSimNumber\u001b[0m\u001b[0;34m]\u001b[0m\u001b[0;34m,\u001b[0m\u001b[0mdebug\u001b[0m\u001b[0;34m)\u001b[0m\u001b[0;34m\u001b[0m\u001b[0;34m\u001b[0m\u001b[0m\n\u001b[0m\u001b[1;32m     44\u001b[0m     \u001b[0;32mif\u001b[0m\u001b[0;34m(\u001b[0m\u001b[0mdebug\u001b[0m\u001b[0;34m)\u001b[0m\u001b[0;34m:\u001b[0m\u001b[0;34m\u001b[0m\u001b[0;34m\u001b[0m\u001b[0m\n\u001b[1;32m     45\u001b[0m       \u001b[0mprint\u001b[0m\u001b[0;34m(\u001b[0m\u001b[0;34m\"bandit() results R_t: \"\u001b[0m\u001b[0;34m,\u001b[0m\u001b[0mR_t\u001b[0m\u001b[0;34m)\u001b[0m\u001b[0;34m\u001b[0m\u001b[0;34m\u001b[0m\u001b[0m\n",
            "\u001b[0;31mUnboundLocalError\u001b[0m: local variable 'action' referenced before assignment"
          ]
        }
      ]
    },
    {
      "cell_type": "code",
      "source": [
        "import matplotlib.pyplot as plt\n",
        "debug=False\n",
        "def 10ArmedBanditSimulation(action1_weights,action2_weights,population,iterations):\n",
        "  \n",
        "  # choose q(a)\n",
        "  q_a = []\n",
        "  mu, sigma = 0, 0.1 # mean and standard deviation\n",
        "  for x in range(10):\n",
        "    q_a[x] = np.random.default_rng().normal(mu, sigma, 2000)\n",
        "\n",
        "  actionChoice=1 # we start by choosing action 1\n",
        "  action1_reward_avg=0\n",
        "  action1_reward_count=0\n",
        "  action2_reward_avg=0\n",
        "  action2_reward_count=0\n",
        "\n",
        "  action1_reward_avg_y1=[]\n",
        "  action2_reward_avg_y2=[]\n",
        "  \n",
        "\n",
        "  # Seed\n",
        "  action1_reward=choices(population, action1_weights)\n",
        "  action1_reward_avg,action1_reward_count=running_average(action1_reward[0],action1_reward_avg,action1_reward_count)\n",
        "  if(debug):\n",
        "    print(\"SEED: action1_reward: {0}, action1_reward_avg: {1}, action1_reward_count: {2}\".format(action1_reward[0],action1_reward_avg,action1_reward_count))\n",
        "\n",
        "  for x in range(iterations):\n",
        "    # At each step we choose the action with the highest action_reward_avg\n",
        "    # Since the action is stochastic, we use its probability to determine if it was successfull or not\n",
        "    # If it was successfull, we assume the other action would not be and vice versa\n",
        "    # We then update the action_reward_avg for both actions using the calculated reward of the chosen action and the implied reward of other action\n",
        "    # repeat cycle\n",
        "    if(debug):\n",
        "      print(\"Iteration {}\".format(x+1))\n",
        "    if action1_reward_avg >= action2_reward_avg:\n",
        "      if(debug):\n",
        "        print(\"Chose Action 1: {} >= {}\".format(action1_reward_avg,action2_reward_avg))\n",
        "      action1_reward=choices(population, action1_weights)\n",
        "      if(action1_reward==1):\n",
        "        action1_reward_avg,action1_reward_avg,action2_reward_count,action2_reward_count=estimateActionValues(1,0,action1_reward_avg,action2_reward_avg,\n",
        "                                                                                                            action2_reward_count,action2_reward_count)\n",
        "      else:\n",
        "        action1_reward_avg,action2_reward_avg,action2_reward_count,action2_reward_count=estimateActionValues(0,1,action1_reward_avg,action2_reward_avg,\n",
        "                                                                                                            action2_reward_count,action2_reward_count)\n",
        "    else:\n",
        "      if(debug):\n",
        "        print(\"Chose Action 2: {} < {}\".format(action1_reward_avg,action2_reward_avg))\n",
        "      action2_reward=choices(population, action2_weights)\n",
        "      if(action2_reward==1):\n",
        "        action1_reward_avg,action2_reward_avg,action2_reward_count,action2_reward_count=estimateActionValues(0,1,action1_reward_avg,action2_reward_avg,\n",
        "                                                                                                            action2_reward_count,action2_reward_count)\n",
        "      else:\n",
        "        action1_reward_avg,action2_reward_avg,action2_reward_count,action2_reward_count=estimateActionValues(1,0,action1_reward_avg,action2_reward_avg,\n",
        "                                                                                                            action2_reward_count,action2_reward_count)\n",
        "    action1_reward_avg_y1.append(action1_reward_avg)\n",
        "    action2_reward_avg_y2.append(action2_reward_avg)\n",
        "   \n",
        "\n",
        "\n",
        "    "
      ],
      "metadata": {
        "id": "bVrlA2jy2q5o"
      },
      "execution_count": null,
      "outputs": []
    },
    {
      "cell_type": "markdown",
      "source": [
        "Quadrant III Test:\n",
        "\n",
        "*   Action 1 succeeds with probability of .2\n",
        "*   Action 2 succeeds with probability of .1\n",
        "\n",
        "\n",
        "\n",
        "\n"
      ],
      "metadata": {
        "id": "Fshg51oPu4Mi"
      }
    },
    {
      "cell_type": "code",
      "source": [
        "# Simulation of Lower Left Quadrant (Quadrant III)\n",
        "population = [0, 1]\n",
        "action1_weights = [0.8, 0.2]\n",
        "action2_weights = [0.9, 0.1]\n",
        "binaryBanditSimulation(action1_weights,action2_weights,population,2000)"
      ],
      "metadata": {
        "colab": {
          "base_uri": "https://localhost:8080/",
          "height": 295
        },
        "id": "TDW_JtuFYTB6",
        "outputId": "25c527da-424a-460a-d7aa-5b1d94c154bb"
      },
      "execution_count": null,
      "outputs": [
        {
          "output_type": "display_data",
          "data": {
            "text/plain": [
              "<Figure size 432x288 with 1 Axes>"
            ],
            "image/png": "[encoded data removed]"
          },
          "metadata": {
            "needs_background": "light"
          }
        }
      ]
    },
    {
      "cell_type": "markdown",
      "source": [
        "Now consider a task with success probabilities 0.8 and 0.9, corresponding to point B in the upper-right difficult quadrant of Figure 2.2. In this case both actions produce success almost all the time. Any method that takes success as an indication of correctness can easily become stuck selecting the wrong action.\n",
        "\n",
        "Sutton, Richard S.; Barto, Andrew G.. Reinforcement Learning (Adaptive Computation and Machine Learning series) (Kindle Locations 797-808). MIT Press. Kindle Edition. "
      ],
      "metadata": {
        "id": "dk55zBZTY2a5"
      }
    },
    {
      "cell_type": "markdown",
      "source": [
        "Quadrant I Test:\n",
        "\n",
        "*   Action 1 succeeds with probability of .9\n",
        "*   Action 2 succeeds with probability of .8"
      ],
      "metadata": {
        "id": "tdoPzPzZbMNx"
      }
    },
    {
      "cell_type": "code",
      "source": [
        "# Simulation of Upper Right Quadrant (Quadrant I)\n",
        "population = [0, 1]\n",
        "action1_weights = [0.1, 0.9]\n",
        "action2_weights = [0.2, 0.8]\n",
        "binaryBanditSimulation(action1_weights,action2_weights,population,2000)"
      ],
      "metadata": {
        "colab": {
          "base_uri": "https://localhost:8080/",
          "height": 295
        },
        "id": "AY5edHtuYmyo",
        "outputId": "28da1732-23a5-489a-d4a4-b788cd3024fa"
      },
      "execution_count": null,
      "outputs": [
        {
          "output_type": "display_data",
          "data": {
            "text/plain": [
              "<Figure size 432x288 with 1 Axes>"
            ],
            "image/png": "[encoded data removed]"
          },
          "metadata": {
            "needs_background": "light"
          }
        }
      ]
    }
  ]
}